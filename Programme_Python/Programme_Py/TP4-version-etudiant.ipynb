{
 "cells": [
  {
   "cell_type": "markdown",
   "id": "4833b296",
   "metadata": {},
   "source": [
    "# TP4: Régression Linéaire\n",
    "\n",
    "La régression linéaire est une technique statistique utilisée pour modéliser la relation entre une variable dépendante/endogène et une ou plusieurs variables indépendantes/exogènes. Le modèle de **régression linéaire simple** est une variable dépendante expliquée par une seule variable indépendante mise sous forme mathématique suivante :\n",
    "\n",
    "$$y = mx + c + \\epsilon$$\n",
    "\n",
    "où, $y$ est la variable dépendante, $x$ est la variable indépendante, $m$ est la pente, $c$ est l'ordonnée à l'origine et $\\epsilon$ est l’erreur aléatoire du modèle. Les paramètres $m$ et $c$ sont inconnus et sont estimés en utilisant les données.\n",
    "\n",
    "Dans ce TP, nous appliquerons la régression linéaire simple et multiple à un jeu de données existant, disponible [ici](https://www.kaggle.com/datasets/nehalbirla/vehicle-dataset-from-cardekho), contenant des données sur les voitures d'occasion. L'objectif est d'utiliser la régression linéaire pour prédire le prix de vente ('Selling_Price') d'une voiture. \n",
    "\n",
    "En ce qui concerne les bibliothèques Python, nous utiliserons [pandas](https://pandas.pydata.org/), [numpy](https://numpy.org/), [matplotlib](https://matplotlib.org/) et [seaborn](https://seaborn.pydata.org/) pour la manipulation et la visualisation des données, ainsi que [scikit-learn](https://scikit-learn.org/stable/) pour l'entraînement des modèles de régression.\n",
    "\n",
    "Commençons par importer les bibliothèques nécessaires."
   ]
  },
  {
   "cell_type": "code",
   "execution_count": 19,
   "id": "53b4a8dd",
   "metadata": {},
   "outputs": [],
   "source": [
    "import pandas as pd\n",
    "import numpy as np\n",
    "import seaborn as sns\n",
    "import matplotlib.pyplot as plt\n",
    "\n",
    "from sklearn.model_selection import cross_val_predict,train_test_split\n",
    "from sklearn.linear_model import LinearRegression\n",
    "from sklearn.metrics import mean_absolute_error, mean_squared_error, r2_score"
   ]
  },
  {
   "cell_type": "markdown",
   "id": "5c5b2d15",
   "metadata": {},
   "source": [
    "Téléchargez le dataset, décompressez le fichier 'archive.zip' et utilisez pandas afin d'importer les données du fichier 'car data.csv' comme un objet de type DataFrame. Quels sont les attributs de ce jeu de données ?"
   ]
  },
  {
   "cell_type": "code",
   "execution_count": 1,
   "id": "575c70af",
   "metadata": {},
   "outputs": [],
   "source": [
    "# à compléter"
   ]
  },
  {
   "cell_type": "markdown",
   "id": "34af8459",
   "metadata": {},
   "source": [
    "### Ex1: Pré-traitement de données\n",
    "\n",
    "En utilisant l'année de fabrication d'une voiture, calculez son âge. Mettez à l'échelle la valeur de l'âge en considérant la valeur maximale de l'année de fabrication. Stockez l'age comme une nouvelle caractéristique dans le DataFrame."
   ]
  },
  {
   "cell_type": "code",
   "execution_count": 2,
   "id": "e64909d4",
   "metadata": {},
   "outputs": [],
   "source": [
    "# à compléter"
   ]
  },
  {
   "cell_type": "markdown",
   "id": "8f828fc8",
   "metadata": {},
   "source": [
    "Avant de commencer le traitement des données, il est souvent utile de savoir si les données sont homogènes ou si elles contiennent des valeurs aberrantes. Une façon simple de visualiser les valeurs aberrantes est d'utiliser un diagramme en boîte. Visualisez les caractéristiques/features numériques du jeu de données à l'aide de diagrammes en boîte pour vérifier s'il existe des valeurs aberrantes dans les données. Que constatez-vous ?"
   ]
  },
  {
   "cell_type": "code",
   "execution_count": 3,
   "id": "f6f22d8c",
   "metadata": {},
   "outputs": [],
   "source": [
    "# à compléter"
   ]
  },
  {
   "cell_type": "markdown",
   "id": "0456be6a",
   "metadata": {},
   "source": [
    "Nous constatons qu'il existe quelques valeurs aberrantes dans les données. Cependant, nous ne pouvons pas supprimer toutes les valeurs aberrantes car elles peuvent contenir des observations importantes. Pour savoir à quels indices dans le DataFrame se trouvent ses valeurs, nous calculerons l'écart interquartile pour chaque feature numérique et enregistrerons les indices pour lesquels les valeurs sont soit inférieures à la valeur minimale, soit supérieures à la valeur maximale. \n",
    "\n",
    "La valeur minimale d'un feature est calculé par $Q_1 - (1.5 \\times EIQ)$ et la valeur maximale est calculée par $Q_3 + (1.5 \\times EIQ)$. \n",
    "\n",
    "$Q_1$ et $Q_3$ représentent respextivement le premier et le troisième quartile et $EIQ$ représente l'écart interquartile.\n",
    "\n",
    "Affichez les indices des valeurs considérées aberrantes. "
   ]
  },
  {
   "cell_type": "code",
   "execution_count": 9,
   "id": "9e96e0e1",
   "metadata": {},
   "outputs": [
    {
     "name": "stdout",
     "output_type": "stream",
     "text": [
      "27 outliers were identified, whose indices are:\n",
      "\n",
      "[37, 39, 50, 51, 179, 53, 54, 52, 59, 189, 62, 63, 64, 66, 196, 69, 77, 79, 80, 82, 84, 85, 86, 92, 93, 96, 97]\n"
     ]
    }
   ],
   "source": [
    "# à compléter"
   ]
  },
  {
   "cell_type": "markdown",
   "id": "e5b60df3",
   "metadata": {},
   "source": [
    "Même avec toutes ces valeurs aberrantes, afin de ne pas perdre de données importantes, nous ne supprimerons que les valeurs aberrantes susceptibles de provoquer de graves distorsions dans le modèle. \n",
    "\n",
    "En examinant les données, il semble idéal de supprimer les données où $Present\\_Price > 80$ ou $Kms\\_Driven > 400000$."
   ]
  },
  {
   "cell_type": "code",
   "execution_count": 4,
   "id": "f64f0c93",
   "metadata": {},
   "outputs": [],
   "source": [
    "# à compléter"
   ]
  },
  {
   "cell_type": "markdown",
   "id": "e2fb062c",
   "metadata": {},
   "source": [
    "Après avoir supprimé les valeurs aberrantes, utilisez les diagrammes de dispersion (scatter plot) pour visualiser la variable dépendante 'Selling_Price' en fonction de chaque variable indépendante ('Age', 'Present_Price', 'Kms_Driven'). Voyez-vous une tendance générale entre ces variables ?"
   ]
  },
  {
   "cell_type": "code",
   "execution_count": 5,
   "id": "4b8b13be",
   "metadata": {},
   "outputs": [],
   "source": [
    "# à compléter"
   ]
  },
  {
   "cell_type": "markdown",
   "id": "bac2e339",
   "metadata": {},
   "source": [
    "Vérifiez s'il y a des valeurs nulles dans le DataFrame. Si oui, c'est mieux de les supprimer."
   ]
  },
  {
   "cell_type": "code",
   "execution_count": 7,
   "id": "8c367dc2",
   "metadata": {},
   "outputs": [],
   "source": [
    "# à compléter"
   ]
  },
  {
   "cell_type": "markdown",
   "id": "1371a0ef",
   "metadata": {},
   "source": [
    "Il est également utile de vérifier s'il y a des lignes en double. S'il y en a, nous pouvons conserver la première ligne et supprimer les autres lignes en double."
   ]
  },
  {
   "cell_type": "code",
   "execution_count": 6,
   "id": "e07b9166",
   "metadata": {},
   "outputs": [],
   "source": [
    "# à compléter"
   ]
  },
  {
   "cell_type": "markdown",
   "id": "de3e5273",
   "metadata": {},
   "source": [
    "Une dernière étape avant de réaliser notre modèle de régression linéaire simple consiste à confirmer quels features de notre jeu de données influencent quels autres features, c'est-à-dire comment les différents features sont corrélées les unes avec les autres.\n",
    "\n",
    "Une manière simple de calculer la corrélation entre différents features consiste à calculer **le coefficient de corrélation de Pearson**. Ce coefficient est une mesure statistique qui définit la force de la relation entre deux variables et leur association l’une avec l’autre. En termes simples, le coefficient de corrélation de Pearson détermine tout changement dans une variable qui est influencé par l’autre variable liée, et est influencé par le concept de covariance.\n",
    "\n",
    "Utilisez la fonction `corr()` définie dans la bibliothèque pandas pour calculer la corrélation entre les différents features numériques de notre dataset. Que constatez-vous ?"
   ]
  },
  {
   "cell_type": "code",
   "execution_count": 8,
   "id": "47722914",
   "metadata": {},
   "outputs": [],
   "source": [
    "# à compléter"
   ]
  },
  {
   "cell_type": "markdown",
   "id": "110399c4",
   "metadata": {},
   "source": [
    "### Ex2: Régression Linéaire Simple\n",
    "\n",
    "Comme nous l'avons vu ci-dessus, le prix actuel ('Present_Price') influence directement le prix de vente ('Selling_Price') de la voiture. Réalisons un modèle de régression linéaire simple pour déterminer la relation entre ces deux variables, en considérant le 'Selling_Price' comme la variable dépendante."
   ]
  },
  {
   "cell_type": "code",
   "execution_count": 9,
   "id": "d1ee4c6b",
   "metadata": {},
   "outputs": [],
   "source": [
    "# à compléter"
   ]
  },
  {
   "cell_type": "markdown",
   "id": "8865e740",
   "metadata": {},
   "source": [
    "Afin de réaliser un modèle de régression linéaire, nous diviserons l'ensemble de données en données d'entraînement et en données de test, en considérant 30 % des données comme des données de test. Utilisez la fonction `train_test_split()` de scikit-learn pour diviser le dataset en deux parties."
   ]
  },
  {
   "cell_type": "code",
   "execution_count": 10,
   "id": "1be3b4f3",
   "metadata": {},
   "outputs": [],
   "source": [
    "X_train, X_test, y_train, y_test = train_test_split(X, y, test_size=0.3, random_state=42)"
   ]
  },
  {
   "cell_type": "markdown",
   "id": "43b02578",
   "metadata": {},
   "source": [
    "Exécutez le code suivant afin de créer un modèle de régression linéaire et tester sa performance à l'aide des mesures suivantes:\n",
    "\n",
    "- Erreur Absolue Moyenne (Mean Absolute Error) calculé comme : $\\frac{1}{n} \\sum_{i=1}^{n} \\| y_i - \\hat{y}_i \\|$\n",
    "- Erreur Quadratique Moyenne (Mean Squared Error) calculé comme : $\\sqrt{\\frac{1}{n} \\sum_{i=1}^{n} (y_i - \\hat{y}_i)^2}$ \n",
    "\n",
    "où, $y_i$ représente la valeur réelle de la $i$-ème observation, $\\hat{y}_i $ représente la valeur prédite par le modèle pour la $i$-ème observation et $n$ st le nombre total d'observations, et\n",
    "\n",
    "- Score $R^2$ calculé comme : $1 - \\frac{SS_{res}}{SS_{tot}}$ où $SS_{res}$ est la somme des carrés des écarts entre les valeurs réelles et les valeurs prédites par le modèle et $SS_{tot}$ est la somme totale des carrés, qui mesure la variabilité totale des données par rapport à leur moyenne.\n",
    "\n",
    "Pour calculer ses mesures, on peut directement utiliser les fonctions `mean_absolute_error()`, `mean_squared_error()` et `r2_score()` de scikit-learn."
   ]
  },
  {
   "cell_type": "code",
   "execution_count": 25,
   "id": "b0387039",
   "metadata": {},
   "outputs": [
    {
     "name": "stdout",
     "output_type": "stream",
     "text": [
      "Mean Absolute Error: 1.754693686618603\n",
      "Mean Squared Error: 8.353766216207315\n",
      "R-squared: 0.6845496030942773\n"
     ]
    }
   ],
   "source": [
    "model = LinearRegression()\n",
    "model.fit(X_train, y_train)\n",
    "\n",
    "y_pred = model.predict(X_test)\n",
    "mae = mean_absolute_error(y_test, y_pred)\n",
    "mse = mean_squared_error(y_test, y_pred)\n",
    "r2 = r2_score(y_test, y_pred)\n",
    "\n",
    "print(f\"Mean Absolute Error: {mae}\")\n",
    "print(f\"Mean Squared Error: {mse}\")\n",
    "print(f\"R-squared: {r2}\")"
   ]
  },
  {
   "cell_type": "markdown",
   "id": "45bd2c5b",
   "metadata": {},
   "source": [
    "Visulisez le modèle. Que constatez-vous ?"
   ]
  },
  {
   "cell_type": "code",
   "execution_count": 11,
   "id": "5b2bc662",
   "metadata": {},
   "outputs": [],
   "source": [
    "# à compléter"
   ]
  },
  {
   "cell_type": "markdown",
   "id": "ea135771",
   "metadata": {},
   "source": [
    "On peut aussi vislisez les valeurs actuelles et les valeurs prédites de 'Selling_Price'. Que constatez-vous ?"
   ]
  },
  {
   "cell_type": "code",
   "execution_count": 12,
   "id": "e5c731e0",
   "metadata": {},
   "outputs": [],
   "source": [
    "# à compléter"
   ]
  },
  {
   "cell_type": "markdown",
   "id": "a725759b",
   "metadata": {},
   "source": [
    "### Régression Linéaire Simple avec la Validation Croisée $k$-fold ($k$-fold Cross-Validation)\n",
    "\n",
    "Un moyen de s'assurer de la performance du modèle est d'utiliser le concept de **validation croisée**. \n",
    "\n",
    "La validation croisée est une technique pour évaluer la performance d'un modèle de prédiction ou d'apprentissage sur des données non vues. Le processus de validation croisée consiste à diviser l'ensemble de données en plusieurs parties (plis) pour simuler la situation où le modèle est testé sur des données distinctes de celles sur lesquelles il a été formé. La forme la plus courante de validation croisée est la validation croisée k-fold, où les données sont divisées en $k$ parties (plis).\n",
    "\n",
    "En reprenant les vecteurs originaux représentant les variables indépendantes ('Present_Price') et dépendantes ('Selling_Price'), appliquez la validation croisée k-fold pour créer un nouveau modèle de regréssion linéaire plus robuste. Considérez $k=5$. Testes la performance de ce nouveau modèle. Que constatez-vous ? "
   ]
  },
  {
   "cell_type": "code",
   "execution_count": 13,
   "id": "89af29d6",
   "metadata": {},
   "outputs": [],
   "source": [
    "# à compléter"
   ]
  },
  {
   "cell_type": "markdown",
   "id": "d30c5185",
   "metadata": {},
   "source": [
    "Visualisez le résultat"
   ]
  },
  {
   "cell_type": "code",
   "execution_count": 14,
   "id": "e0a29719",
   "metadata": {},
   "outputs": [],
   "source": [
    "# à compléter"
   ]
  },
  {
   "cell_type": "markdown",
   "id": "b5439a55",
   "metadata": {},
   "source": [
    "### Ex3: Régression Linéaire Multiple\n",
    "\n",
    "La régression linéaire multiple est une extension de la régression linéaire simple, où au lieu de modéliser la relation entre une variable dépendante et une seule variable indépendante, on modélise la relation entre une variable dépendante et plusieurs variables indépendantes. Mathématiquement,\n",
    "\n",
    "$$y = m_1x_1 + m_2x_2 + \\dots + m_nx_n + c + \\epsilon$$\n",
    "\n",
    "représent un modèle de régression linéaire multiple.\n",
    "\n",
    "Considérons toujours 'Selling_Price' comme la variable dépendante, on peut augmenter le nombre de variables indépendates dans notre modèle. Cependant, il n'est pas très raisonnable d'ajouter n'importe quelle variable comme variable indépendante dans le modèle car l'augmentation du nombre de variables accroît la complexité du modèle et le temps de calcul et réduira l'interprétabilité des résultats.\n",
    "\n",
    "Nous avons vu précédemment que la variable 'Present_Price' est corrélée avec la variable 'Kms_Driven'. On peut se demander si 'Kms_Driven' affecte également le 'Selling_Price' de la voiture.\n",
    "\n",
    "Ajoutez 'Kms_Driven' comme une nouvelle variable indépendante dans le modèle et testez les métriques de performance."
   ]
  },
  {
   "cell_type": "code",
   "execution_count": 15,
   "id": "95c58665",
   "metadata": {},
   "outputs": [],
   "source": [
    "# à compléter"
   ]
  },
  {
   "cell_type": "code",
   "execution_count": 16,
   "id": "9b665349",
   "metadata": {},
   "outputs": [],
   "source": [
    "# à compléter"
   ]
  },
  {
   "cell_type": "markdown",
   "id": "42795a1f",
   "metadata": {},
   "source": [
    "### Régression Linéaire Multiple avec la Validation Croisée 𝑘-fold\n",
    "\n",
    "Répétez les tests avec la validation croisée $k$-fold, $k=5$"
   ]
  },
  {
   "cell_type": "code",
   "execution_count": 17,
   "id": "e83a0c72",
   "metadata": {},
   "outputs": [],
   "source": [
    "# à compléter"
   ]
  },
  {
   "cell_type": "markdown",
   "id": "efe1e24a",
   "metadata": {},
   "source": [
    "Afin de visualiser les résultats de régression linéaire multiple, on peut utiliser les courbes de régression partielle. Exécutez le code suivant pour visualiser l'effet de 'Present_Price' et 'Kms_Driven' sur la valeur de 'Selling_Price'. Que constatez-vous ?   "
   ]
  },
  {
   "cell_type": "code",
   "execution_count": null,
   "id": "3a13b728",
   "metadata": {},
   "outputs": [],
   "source": [
    "# Visualize the results of multiple linear regression model using partial regression plots (facultatif)\n",
    "\n",
    "data = pd.DataFrame(X, columns=['Present_Price', 'Kms_Driven'])\n",
    "data['Selling_Price'] = y\n",
    "\n",
    "sns.pairplot(data, x_vars=['Present_Price', 'Kms_Driven'], y_vars='Selling_Price', kind='reg', aspect=1.5)\n",
    "plt.suptitle('Partial regression plots', y=1.02)\n",
    "plt.show()\n",
    "\n",
    "# With high variation in the values of 'Kms_Driven' it does not seem to improve much the prediction results. \n",
    "# We saw above that 'Kms_Driven' is also correlated to 'Age'. \n",
    "# Students can add 'Age' as third independant variable and test the model performance."
   ]
  }
 ],
 "metadata": {
  "kernelspec": {
   "display_name": "Python 3 (ipykernel)",
   "language": "python",
   "name": "python3"
  },
  "language_info": {
   "codemirror_mode": {
    "name": "ipython",
    "version": 3
   },
   "file_extension": ".py",
   "mimetype": "text/x-python",
   "name": "python",
   "nbconvert_exporter": "python",
   "pygments_lexer": "ipython3",
   "version": "3.10.12"
  }
 },
 "nbformat": 4,
 "nbformat_minor": 5
}
