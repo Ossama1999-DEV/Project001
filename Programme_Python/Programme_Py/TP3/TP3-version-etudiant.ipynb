{
 "cells": [
  {
   "cell_type": "markdown",
   "id": "adf7938c",
   "metadata": {},
   "source": [
    "# TP Python n°3 : Exploration statistique de données avec Python"
   ]
  },
  {
   "cell_type": "markdown",
   "id": "65f6627b",
   "metadata": {},
   "source": [
    "Les données jouent un rôle fondamental dans notre prise de décisions et notre compréhension du monde qui nous entoure. Cependant, de simples données brutes ne suffisent pas toujours à révéler les informations essentielles cachées en leur sein. C'est là que les analyses statistiques entrent en jeu. Dans ce TP, nous allons explorer pourquoi les analyses statistiques sont cruciales et comment elles nous permettent de tirer des conclusions significatives à partir de données complexes.\n",
    "\n",
    "À mesure que les entreprises, les chercheurs et même les individus ont accès à des quantités massives de données, la capacité à en extraire des connaissances exploitables devient essentielle. Les analyses statistiques sont l'outil clé qui permet de transformer ces données en informations significatives. Elles nous aident à détecter des tendances, à identifier des relations, à prendre des décisions éclairées et à formuler des hypothèses basées sur des preuves solides. Lorsque nous sommes confrontés à des décisions complexes, il est essentiel d'avoir des informations fiables pour guider nos choix. Les analyses statistiques nous offrent une méthodologie structurée pour évaluer les options, quantifier les risques et prendre des décisions fondées sur des preuves. Elles nous aident à minimiser les biais subjectifs et à éviter de tirer des conclusions hâtives.\n",
    "\n",
    "L'un des principaux objectifs des analyses statistiques est de comprendre la variabilité inhérente aux données. En effet, les données peuvent souvent contenir du bruit, des valeurs aberrantes et des modèles subtils qui ne sont pas perceptibles à première vue. Dans un monde où l'IA (Intelligence Artificielle) est en constante expansion et influence de nombreux aspects de notre vie, les analyses statistiques sont le fondement qui permet de construire, d'évaluer et d'interpréter les modèles d'IA. L'IA moderne repose sur l'apprentissage à partir des données. Les algorithmes d'IA apprennent des motifs à partir de vastes ensembles de données pour effectuer des tâches telles que la reconnaissance d'images, la traduction automatique, la prédiction de comportements et bien plus encore. Les analyses statistiques sont le moyen d'extraire des informations significatives de ces données brutes, permettant ainsi aux modèles d'IA de généraliser à partir d'exemples et de prendre des décisions intelligentes. Mais afin que les résultats soient fiables et robustes il est nécessaire de faire tourner les modèles sur des données qui sont propres. Les valeurs aberrantes, par exemple des erreurs de saisie vont erroner le modèle et ainsi des sorties faussées ou biaisées en résulteront. Le pré-traitement des données avec les outils statistiques est ainsi essentiel. De plus, les analyses statistiques sont utilisées pour évaluer la performance des modèles, déterminer leur précision et leur robustesse, et garantir qu'ils sont adaptés à la tâche spécifique. Sans ces analyses, l'IA pourrait fournir des résultats imprévisibles et potentiellement dangereux."
   ]
  },
  {
   "cell_type": "markdown",
   "id": "d2b8431c",
   "metadata": {},
   "source": [
    "Les données sur les niveaux d'ozone sont souvent utilisées pour étudier la qualité de l'air. Dans ce TP, vous allez travailler avec un jeu de données contenant des mesures d'ozone. Vous utiliserez Python pour effectuer des analyses descriptives et inférentielles afin d'extraire des informations pertinentes de ces données. Pour cela on va travailler sur le jeu de données ozone.txt contenant des données météorologiques sur la ville de Rennes."
   ]
  },
  {
   "cell_type": "markdown",
   "id": "d88239fe",
   "metadata": {},
   "source": [
    "# Importation des données et traitement descriptif des variables"
   ]
  },
  {
   "cell_type": "markdown",
   "id": "98719932",
   "metadata": {},
   "source": [
    "Dans un premier temps, importer les libraires usuelles (numpy, pandas et matplotlib)."
   ]
  },
  {
   "cell_type": "markdown",
   "id": "bdfc8131",
   "metadata": {},
   "source": []
  },
  {
   "cell_type": "code",
   "execution_count": null,
   "id": "699dc590",
   "metadata": {},
   "outputs": [],
   "source": [
    "# à compléter"
   ]
  },
  {
   "cell_type": "markdown",
   "id": "13d66e1d",
   "metadata": {},
   "source": [
    "Télécharger le fichier situé à l'adresse http://wikistat.fr/data/ozone.csv et afficher une vue d'ensemble des données. Déterminer les variables quantitatives et qualitatives. Pour ouvrir un fichier *.csv dont on donne le chemin (ou lien), on utilise la fonction read_csv de la librairie pandas."
   ]
  },
  {
   "cell_type": "markdown",
   "metadata": {},
   "source": []
  },
  {
   "cell_type": "code",
   "execution_count": null,
   "id": "7f6fb62e",
   "metadata": {},
   "outputs": [],
   "source": [
    "# à compléter"
   ]
  },
  {
   "cell_type": "markdown",
   "id": "b395b3e9",
   "metadata": {},
   "source": [
    "Il est préférable de remplacer les , par des . pour les variables quantitatives pour que toutes les fonctions prédéfinies de Python s'éxécutent correctement. On utilise la fonction str.replace. On peut aussi convertir toutes les valeurs en valeurs numériques en utilisant la fonction to_numeric de pandas."
   ]
  },
  {
   "cell_type": "code",
   "execution_count": null,
   "id": "0ae389aa",
   "metadata": {},
   "outputs": [],
   "source": []
  },
  {
   "cell_type": "code",
   "execution_count": null,
   "id": "32ad4c21",
   "metadata": {},
   "outputs": [],
   "source": [
    "# à compléter"
   ]
  },
  {
   "cell_type": "markdown",
   "id": "ffd21911",
   "metadata": {},
   "source": [
    "## Traitement des variables quantitatives"
   ]
  },
  {
   "cell_type": "markdown",
   "id": "b4b2b1c4",
   "metadata": {},
   "source": [
    "Tracer, pour les variables quantitatives, 3 graphiques bien choisis et qui permettront d'évaluer et comprendre l'évolution journalière, les points abberants et la distribution."
   ]
  },
  {
   "cell_type": "code",
   "execution_count": null,
   "id": "0c9dbac7",
   "metadata": {},
   "outputs": [],
   "source": [
    "# à compléter"
   ]
  },
  {
   "cell_type": "code",
   "execution_count": null,
   "id": "bdebd344",
   "metadata": {},
   "outputs": [],
   "source": [
    "# à compléter"
   ]
  },
  {
   "cell_type": "code",
   "execution_count": null,
   "id": "97272665",
   "metadata": {},
   "outputs": [],
   "source": [
    "# à compléter"
   ]
  },
  {
   "cell_type": "code",
   "execution_count": null,
   "id": "5a96dbad",
   "metadata": {},
   "outputs": [],
   "source": [
    "# à compléter"
   ]
  },
  {
   "cell_type": "markdown",
   "id": "edbb5785",
   "metadata": {},
   "source": [
    "## Traitement des variables qualitatives"
   ]
  },
  {
   "cell_type": "markdown",
   "id": "a955a9ca",
   "metadata": {},
   "source": [
    "Tracer, pour les variables qualitatives, un ou deux graphiques permettant de comprendre la répartition des données."
   ]
  },
  {
   "cell_type": "code",
   "execution_count": null,
   "id": "86fb074b",
   "metadata": {},
   "outputs": [],
   "source": [
    "# à compléter"
   ]
  },
  {
   "cell_type": "code",
   "execution_count": null,
   "id": "951ac6fe",
   "metadata": {},
   "outputs": [],
   "source": [
    "# à compléter"
   ]
  },
  {
   "cell_type": "markdown",
   "id": "6cd9b076",
   "metadata": {},
   "source": [
    "# Analyse du lien entre deux variables"
   ]
  },
  {
   "cell_type": "markdown",
   "id": "4d48f380",
   "metadata": {},
   "source": [
    "## Lien entre deux variables quantitatives"
   ]
  },
  {
   "cell_type": "markdown",
   "id": "d3d993d7",
   "metadata": {},
   "source": [
    "Tracer un graphe permettant de représenter le lien entre le vent, la température et la concentation maximale en ozone"
   ]
  },
  {
   "cell_type": "code",
   "execution_count": null,
   "id": "8a6823b1",
   "metadata": {},
   "outputs": [],
   "source": [
    "# à compléter"
   ]
  },
  {
   "cell_type": "code",
   "execution_count": null,
   "id": "6f0b9eab",
   "metadata": {},
   "outputs": [],
   "source": [
    "# à compléter"
   ]
  },
  {
   "cell_type": "markdown",
   "id": "c7c9b9f0",
   "metadata": {},
   "source": [
    "## Lien entre une variable quantitative et une variable qualitative"
   ]
  },
  {
   "cell_type": "markdown",
   "id": "d5e8129b",
   "metadata": {},
   "source": [
    "Tracer un graphe permettant de représenter le lien entre la pluie et la concentation maximale en ozone."
   ]
  },
  {
   "cell_type": "code",
   "execution_count": null,
   "id": "08b1078d",
   "metadata": {},
   "outputs": [],
   "source": [
    "# à compléter"
   ]
  },
  {
   "cell_type": "markdown",
   "id": "1ce677b1",
   "metadata": {},
   "source": [
    "## Lien entre deux variables qualitatives"
   ]
  },
  {
   "cell_type": "markdown",
   "id": "0abe16eb",
   "metadata": {},
   "source": [
    "Tracer un graphe permettant de représenter le lien entre la pluie et le vent."
   ]
  },
  {
   "cell_type": "code",
   "execution_count": null,
   "id": "e4cfffee",
   "metadata": {},
   "outputs": [],
   "source": [
    "# à compléter"
   ]
  },
  {
   "cell_type": "markdown",
   "id": "4e93af42",
   "metadata": {},
   "source": [
    "# Statistiques inférentielles"
   ]
  },
  {
   "cell_type": "markdown",
   "id": "386117d0",
   "metadata": {},
   "source": [
    "Construire un intervalle de confiance pour la moyenne pour la variable Vent à 9h après avoir calculé les statistiques de base de Vx9 (en utilisant la fonction describe de pandas)."
   ]
  },
  {
   "cell_type": "code",
   "execution_count": null,
   "id": "d87a59b6",
   "metadata": {},
   "outputs": [],
   "source": [
    "# à compléter"
   ]
  },
  {
   "cell_type": "code",
   "execution_count": null,
   "id": "0b6c9b5d",
   "metadata": {},
   "outputs": [],
   "source": [
    "# à compléter"
   ]
  },
  {
   "cell_type": "markdown",
   "id": "deedb4c3",
   "metadata": {},
   "source": [
    "Tracer l'histogramme de la variable Vent à 9h et ensuite déterminer par un test statistique (test de Shapiro) si la variable Vent à 9h suit une loi normale."
   ]
  },
  {
   "cell_type": "code",
   "execution_count": null,
   "id": "34f9db75",
   "metadata": {},
   "outputs": [],
   "source": []
  },
  {
   "cell_type": "code",
   "execution_count": null,
   "id": "996b6511",
   "metadata": {},
   "outputs": [],
   "source": [
    "# Solution\n",
    "plt.hist(df['Vx9'])"
   ]
  },
  {
   "cell_type": "code",
   "execution_count": null,
   "id": "207986e0",
   "metadata": {},
   "outputs": [],
   "source": [
    "# à compléter"
   ]
  },
  {
   "cell_type": "code",
   "execution_count": null,
   "id": "8fd4e4b5",
   "metadata": {},
   "outputs": [],
   "source": [
    "# à compléter"
   ]
  }
 ],
 "metadata": {
  "kernelspec": {
   "display_name": "Python 3 (ipykernel)",
   "language": "python",
   "name": "python3"
  },
  "language_info": {
   "codemirror_mode": {
    "name": "ipython",
    "version": 3
   },
   "file_extension": ".py",
   "mimetype": "text/x-python",
   "name": "python",
   "nbconvert_exporter": "python",
   "pygments_lexer": "ipython3",
   "version": "3.11.4"
  }
 },
 "nbformat": 4,
 "nbformat_minor": 5
}
