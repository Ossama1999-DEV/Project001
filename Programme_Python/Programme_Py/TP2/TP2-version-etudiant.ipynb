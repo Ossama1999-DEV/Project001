{
 "cells": [
  {
   "cell_type": "markdown",
   "id": "31a361f1",
   "metadata": {},
   "source": [
    "# TP2 - Traitement du signal en Python"
   ]
  },
  {
   "cell_type": "markdown",
   "id": "3256b9ad",
   "metadata": {},
   "source": [
    "Dans ce TP, nous étudierons les concepts suivants \n",
    "\n",
    "- Génération de signaux\n",
    "\n",
    "- Echantillonnage et théorème de Nyquist-Shannon\n",
    "\n",
    "- Transformée de Fourier Discrète\n",
    "\n",
    "- Zero-padding d'un signal\n",
    "\n",
    "- Notion de filtrage avec transformée de Fourier inverse"
   ]
  },
  {
   "cell_type": "markdown",
   "id": "8eeceac4",
   "metadata": {},
   "source": [
    "Nous utiliserons les bibliothèques python [numpy](https://numpy.org/) et [scipy](https://scipy.org/) pour les calculs numériques et [matplotlib](https://matplotlib.org/) pour visualiser les résultats. Commençons par importer les bibliothèques nécessaires"
   ]
  },
  {
   "cell_type": "code",
   "execution_count": 1,
   "id": "a991e64a",
   "metadata": {},
   "outputs": [],
   "source": [
    "import numpy as np\n",
    "import matplotlib.pyplot as plt\n",
    "import scipy"
   ]
  },
  {
   "cell_type": "markdown",
   "id": "ab0ebf5d",
   "metadata": {},
   "source": [
    "### Ex1: Génération d'un signal sinusoidal $y(t)$ de frequence fo = 50 Hz et la durée = 1 sec\n",
    "\n",
    "En python, nous pouvons générer une onde sinusoïdale à l'aide de la bibliothèque numpy. La fonction sin() de numpy prend en argument l'angle en radians pour générer l'onde souhaitée. Pour le traitement des signaux discrets, il est souvent souhaitable de générer les signaux en calculant le nombre d'échantillons qu'ils doivent contenir. Pour calculer le nombre d'échantillons, la **durée du signal** est divisée par la **période d'échantillonnage**. La période d'échantillonnage est l'inverse de la **fréquence d'échantillonnage**.\n",
    "\n",
    "**Théorème de Nyquist-Shannon**\n",
    "\n",
    "Le théorème d'échantillonnage, également connu sous le nom de théorème de Nyquist-Shannon, est un principe fondamental en traitement du signal qui énonce les conditions nécessaires pour éviter la perte d'information lors de l'échantillonnage d'un signal continu. En substance, le théorème d'échantillonnage stipule que pour échantillonner un signal continu de manière à le reconstruire avec succès, la fréquence d'échantillonnage doit être au moins deux fois plus élevée que la fréquence maximale présente dans le signal. Mathématiquement, si la fréquence maximale du signal est $fmax$, alors la fréquence d'échantillonnage $fe$ doit satisfaire la condition : $fe > 2*fmax$\n",
    "\n",
    "Si cette condition n'est pas respectée, des artefacts tels que l'aliasing peuvent se produire, ce qui entraîne une perte d'information et une dégradation de la qualité du signal reconstruit. En utilisant le théorème d'échantillonnage, on peut déterminer la fréquence d'échantillonnage appropriée pour échantillonner un signal donné tout en évitant le problème d'aliasing.\n",
    "\n",
    "Générez l'onde sinusoïdale en utilisant les paramètres donnés ci-dessous."
   ]
  },
  {
   "cell_type": "code",
   "execution_count": 2,
   "id": "9c8b6b36",
   "metadata": {},
   "outputs": [],
   "source": [
    "fo = 50 # frequence du signal (Hz)\n",
    "Fe = 10**3 # frequence d'échantillonnage (pour respecter le théorème de Nyquist–Shannon, Fe > 2*fo)\n",
    "DT = 1 # durée du signal (sec)\n",
    "dt = 1/Fe # période d'échantiollannage\n",
    "N = DT/dt # nb de échantillons"
   ]
  },
  {
   "cell_type": "code",
   "execution_count": 7,
   "id": "274b5222",
   "metadata": {},
   "outputs": [],
   "source": [
    "# à compléter"
   ]
  },
  {
   "cell_type": "markdown",
   "id": "07b55641",
   "metadata": {},
   "source": [
    "Visualisez le signal sinusoïdal généré à l'aide des fonctions définies dans la bibliothèque python matplotlib. N'oubliez pas d'ajouter les labels appropriés sur les deux axes et le titre du diagramme."
   ]
  },
  {
   "cell_type": "code",
   "execution_count": 2,
   "id": "a60ec8a6",
   "metadata": {},
   "outputs": [],
   "source": [
    "# à compléter"
   ]
  },
  {
   "cell_type": "markdown",
   "id": "8dd43d61",
   "metadata": {},
   "source": [
    "### Ex2: Transformée de Fourier Discrète\n",
    "\n",
    "**Transformation de Fourier**\n",
    "\n",
    "La transformation de Fourier est un concept fondamental en traitement du signal. Elle permet de représenter une fonction dans le domaine fréquentiel, en décomposant cette fonction en différentes fréquences qui la composent. Pour une fonction continue de $t$, notée $y(t)$, sa transformée de Fourier $Y(f)$ est définie par l'intégrale:\n",
    "\n",
    "$$Y(f) = \\int_{-\\infty}^{\\infty} y(t) \\cdot e^{-j 2\\pi f t} \\, dt$$\n",
    "\n",
    "où $e^{-j 2\\pi f t}$ désigne l’exponentielle complexe, $j = \\sqrt{-1}$.\n",
    "\n",
    "*Rappel:* Formule d'Euler $e^{j t} = \\cos(t) + j\\sin(t)$\n",
    "\n",
    "**Transformation de Fourier Discrète**\n",
    "\n",
    "La transformation de Fourier Discrète (TFD) est une version discrète de la transformation de Fourier, adaptée pour les signaux échantillonnés dans le temps. La formule générale pour la transformation de Fourier discrète d'une séquence temporelle \n",
    "$y[n]$ de longueur $N$ est:\n",
    "\n",
    "$$Y[k] = \\sum_{n=0}^{N-1} y[n] \\cdot e^{-j \\frac{2\\pi}{N} k n}$$\n",
    "\n",
    "où $Y[k]$ est la valeur de la transformation de Fourier Discrète à la fréquence discrète $k$. Cette formule couvre les fréquences positives, avec $k = 0, 1, 2, \\dots, N−1$. La formule de la TFD avec les fréquences négatives est donné comme:\n",
    "\n",
    "$$Y[k] = \\sum_{n=0}^{N-1} y[n] \\cdot e^{-j \\frac{2\\pi}{N} (N-k) n}$$\n",
    "\n",
    "avec $k = −N+1, −N+2, \\dots, −1$.\n",
    "\n",
    "**Transformée de Fourier Rapide**\n",
    "\n",
    "La Transformée de Fourier Rapide (TFR), également connue sous le nom de FFT (Fast Fourier Transform), est un algorithme efficace pour calculer la transformation de Fourier discrète (TFD) d'une séquence temporelle échantillonnée. Comparée à l'évaluation directe de la TFD à l'aide de sa formule de base, la FFT peut considérablement réduire le temps de calcul, en particulier pour les séquences de longueur considérable. L'algorithme FFT a une complexité temporelle de $\\mathcal{O}(N\\log{}N)$, où $N$ est la longueur de la séquence d'échantillons. En comparaison, la complexité temporelle de la méthode directe est $\\mathcal{O}(N^2)$."
   ]
  },
  {
   "cell_type": "markdown",
   "id": "9fefb32f",
   "metadata": {},
   "source": [
    "Avec la bibliothèque scipy, nous pouvons calculer la DFT d'un signal à l'aide de la fonction fft(). Calculez la DFT du signal généré précédemment et affichez le résultat. Que constatez-vous?"
   ]
  },
  {
   "cell_type": "code",
   "execution_count": 3,
   "id": "6c01803f",
   "metadata": {},
   "outputs": [],
   "source": [
    "# à compléter    "
   ]
  },
  {
   "cell_type": "markdown",
   "id": "09dd0554",
   "metadata": {},
   "source": [
    "Afin de visualiser le résultat, nous devons également calculer le vecteur de fréquence qui représentera l'axe des abscisses. Pour ce faire, nous pouvons utiliser la fonction fftfreq() définie dans scipy. Utilisez cette fonction pour visualiser le plot de la TFD du signal précédent. Que constatez-vous?"
   ]
  },
  {
   "cell_type": "code",
   "execution_count": 4,
   "id": "b773e65c",
   "metadata": {},
   "outputs": [],
   "source": [
    "# à compléter"
   ]
  },
  {
   "cell_type": "markdown",
   "id": "8870d85e",
   "metadata": {},
   "source": [
    "Calculez maintenant la transformée de Fourier d'une **fonction exponentielle complexe** $y_1(t) = e^{j 2\\pi f_o t}$. Visualisez le résultat dans le domaine temporel et dans le domaine fréquentiel. Que constatez-vous?"
   ]
  },
  {
   "cell_type": "code",
   "execution_count": 5,
   "id": "f85ddd3c",
   "metadata": {},
   "outputs": [],
   "source": [
    "# à compléter"
   ]
  },
  {
   "cell_type": "code",
   "execution_count": 6,
   "id": "62305664",
   "metadata": {},
   "outputs": [],
   "source": [
    "# à compléter"
   ]
  },
  {
   "cell_type": "markdown",
   "id": "8bc6527a",
   "metadata": {},
   "source": [
    "De la même manière, représentez la fonction exponentielle complexe $y_2(t) = e^{-j 2\\pi f_o t}$ avec une fréquence négative. Que constatez-vous?"
   ]
  },
  {
   "cell_type": "code",
   "execution_count": 8,
   "id": "6449e1af",
   "metadata": {},
   "outputs": [],
   "source": [
    "# à compléter"
   ]
  },
  {
   "cell_type": "code",
   "execution_count": 9,
   "id": "f1d19bca",
   "metadata": {},
   "outputs": [],
   "source": [
    "# à compléter"
   ]
  },
  {
   "cell_type": "markdown",
   "id": "6e2f05d0",
   "metadata": {},
   "source": [
    "Exprimez la fonction $\\sin(2\\pi f_o t)$ avec les fonctions $y_1(t) = e^{j 2\\pi f_o t}$ and $y_2(t) = e^{-j 2\\pi f_o t}$ en appliquant le Formule d'Euler. Ensuite, prenez le DFT de cette fonction et comparez avec le résultat correspondant précédent. "
   ]
  },
  {
   "cell_type": "code",
   "execution_count": 10,
   "id": "0b4ad91c",
   "metadata": {},
   "outputs": [],
   "source": [
    "# à compléter"
   ]
  },
  {
   "cell_type": "code",
   "execution_count": 11,
   "id": "01283d8c",
   "metadata": {},
   "outputs": [],
   "source": [
    "# à compléter"
   ]
  },
  {
   "cell_type": "markdown",
   "id": "f3fb8814",
   "metadata": {},
   "source": [
    "### Ex3: Zero-padding d'un signal \n",
    "\n",
    "Le « zéro-padding » (remplissage de zéros) est une technique pour **augmenter la résolution** en fréquence d'une série de données. Plus précisément, cela implique d'ajouter des zéros à la fin d'une séquence de données, généralement avant de réaliser une transformation de Fourier. \n",
    "\n",
    "L'ajout de zéros permet d'augmenter le nombre de points à transformer, ce qui se traduit par une meilleure résolution en fréquence dans le domaine transformé. Cela peut être utile pour détecter des composantes fréquentielles fines ou pour visualiser des détails qui pourraient être manquants avec une résolution plus basse. Comme le zéro padding n'ajoute pas de nouvelles informations au signal, le problème fondamental de manque de données persiste toujours, même après l'ajoute des zéros.\n",
    "\n",
    "Afin de voir l'effet de la résolution des données sur le calcul de la transformée de Fourier, prenez le signal sinusoïdal de l'exercice 1 et enlevez quelques échantillons. Les autres paramètres restent inchangés. Visualisez le résultat dans le domaine fréquentiel. Que constatez vous ?"
   ]
  },
  {
   "cell_type": "code",
   "execution_count": 12,
   "id": "d9621492",
   "metadata": {},
   "outputs": [],
   "source": [
    "# à compléter"
   ]
  },
  {
   "cell_type": "code",
   "execution_count": 13,
   "id": "a2a25a28",
   "metadata": {},
   "outputs": [],
   "source": [
    "# à compléter "
   ]
  },
  {
   "cell_type": "markdown",
   "id": "ef4a9540",
   "metadata": {},
   "source": [
    "En utilisant la fonction next_fast_len() de scipy, le résultat de la transformée de Fourier peut être amélioré. Augmentez le nombre d'échantillons à l'aide de cette fonction et visualisez le résultat. "
   ]
  },
  {
   "cell_type": "code",
   "execution_count": 14,
   "id": "31c2b201",
   "metadata": {},
   "outputs": [],
   "source": [
    "# à compléter"
   ]
  },
  {
   "cell_type": "markdown",
   "id": "b1e9582d",
   "metadata": {},
   "source": [
    "Une autre façon d'ajouter des zéros à la fin du signal est d'utiliser la fonction pad() de la bibliothèque numpy. Prenez le signal sinusoïdal de l'exercice 1 et ajoutez 10000 échantillons avec l'intensité zéro à la fin. Visualisez le résultat dans les domaines temporel et fréquentiel. Que constatez-vous ?"
   ]
  },
  {
   "cell_type": "code",
   "execution_count": 15,
   "id": "8e45e61b",
   "metadata": {},
   "outputs": [],
   "source": [
    "# à compléter"
   ]
  },
  {
   "cell_type": "code",
   "execution_count": 16,
   "id": "560e2b5b",
   "metadata": {},
   "outputs": [],
   "source": [
    "# à compléter"
   ]
  },
  {
   "cell_type": "markdown",
   "id": "9093d152",
   "metadata": {},
   "source": [
    "### Ex4: Filtrage avec la transformée de Fourier Inverse \n",
    "\n",
    "\n",
    "La Transformée de Fourier Inverse est l'opération inverse de la Transformée de Fourier. Elle convertit une fonction du domaine fréquentiel en une fonction du domaine temporel. La formule générale pour la transformation de Fourier Inverse (pour le cas discret) est:\n",
    "\n",
    "$$y[n] = \\frac{1}{N} \\cdot \\sum_{k=0}^{N-1} Y[k] \\cdot e^{j \\frac{2\\pi}{N} k n}$$\n",
    "\n",
    "Cette formule calcule les échantillons individuels $y[n]$ dans le domaine temporel en faisant la somme pondérée de toutes les composantes de fréquence données par $Y[k]$. "
   ]
  },
  {
   "cell_type": "markdown",
   "id": "0033f41a",
   "metadata": {},
   "source": [
    "Dans cet exercice, nous utiliserons la transformée de Fourier Inverse pour créer un filtre simple. Commencez par générer un signal $y(t) = 10\\sin(2 \\pi f_1 t) + 20\\cos(2 \\pi f_2 t)$ où $f_1 = 50Hz$ et $f_2 = 20Hz$. Dans ce signal, ajoutez un bruit aléatoire et visualisez les deux signaux."
   ]
  },
  {
   "cell_type": "code",
   "execution_count": 17,
   "id": "dad18fd2",
   "metadata": {},
   "outputs": [],
   "source": [
    "# à compléter"
   ]
  },
  {
   "cell_type": "markdown",
   "id": "a91da525",
   "metadata": {},
   "source": [
    "Afin de décomposer le signal bruité en ses fréquences constitutives, utilisez la transformée de Fourier Discrète. Visualisez le signal dans le domaine fréquentiel. Que constatez-vous ?"
   ]
  },
  {
   "cell_type": "code",
   "execution_count": 18,
   "id": "7cdfbc6e",
   "metadata": {},
   "outputs": [],
   "source": [
    "# à compléter"
   ]
  },
  {
   "cell_type": "markdown",
   "id": "b83717a6",
   "metadata": {},
   "source": [
    "Dans le domaine fréquentiel, filtrez les fréquences dont l'amplitude est supérieure à un seuil donné. Essayez différentes valeurs de seuil pour voir leur effet."
   ]
  },
  {
   "cell_type": "code",
   "execution_count": 19,
   "id": "2107665e",
   "metadata": {},
   "outputs": [],
   "source": [
    "# à compléter"
   ]
  },
  {
   "cell_type": "markdown",
   "id": "ec2ecdba",
   "metadata": {},
   "source": [
    "Après avoir filtré le signal dans le domaine fréquentiel, prenez sa transformée de Fourier Inverse à l'aide de la fonction ifft() définie dans scipy et visualisez le signal filtré. Concluez sur les résultats."
   ]
  },
  {
   "cell_type": "code",
   "execution_count": 20,
   "id": "fdbb52dc",
   "metadata": {},
   "outputs": [],
   "source": [
    "# à compléter"
   ]
  },
  {
   "cell_type": "markdown",
   "id": "2ba59782",
   "metadata": {},
   "source": [
    "### Conclusion\n",
    "\n",
    "Dans ce cours, nous avons abordé les bases du traitement du signal en utilisant les concepts de la transformée de Fourier Discrète, du zéro-padding et de la transformée de Fourier Inverse. Nous avons généré des échantillons discrets de signaux réels et complexes et discuté de leur comportement dans le domaine fréquentiel. Enfin, nous avons développé un filtre pour débruiter un signal donné en utilisant la transformée de Fourier Inverse."
   ]
  }
 ],
 "metadata": {
  "kernelspec": {
   "display_name": "Python 3 (ipykernel)",
   "language": "python",
   "name": "python3"
  },
  "language_info": {
   "codemirror_mode": {
    "name": "ipython",
    "version": 3
   },
   "file_extension": ".py",
   "mimetype": "text/x-python",
   "name": "python",
   "nbconvert_exporter": "python",
   "pygments_lexer": "ipython3",
   "version": "3.11.4"
  }
 },
 "nbformat": 4,
 "nbformat_minor": 5
}
