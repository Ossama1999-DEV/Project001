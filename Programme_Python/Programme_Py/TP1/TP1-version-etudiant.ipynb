{
 "cells": [
  {
   "cell_type": "markdown",
   "id": "0ce5e4eb",
   "metadata": {},
   "source": [
    "# TP Python n°1 : Prise en main de Python et Jupyter"
   ]
  },
  {
   "cell_type": "markdown",
   "id": "b0ffdba8",
   "metadata": {},
   "source": [
    "Le langage de programmation Python est largement utilisé dans le domaine de la science des données, de l'analyse statistique, de la visualisation de données, de l'apprentissage automatique et bien d'autres domaines. Dans ce TP, nous allons explorer les bases de Python en utilisant l'environnement interactif Jupyter Notebook. Vous aurez l'occasion de découvrir les concepts fondamentaux de Python et d'apprendre à les mettre en œuvre à travers des exemples pratiques.\n",
    "\n",
    "\n",
    "Objectifs :\n",
    "\n",
    "- Comprendre les concepts de base de Python.\n",
    "- Apprendre à utiliser Jupyter Notebook pour l'écriture et l'exécution de code Python.\n",
    "- Explorer les types de données, les structures de contrôle et les fonctions en Python.\n",
    "- Réaliser des visualisations simples à l'aide de bibliothèques comme Matplotlib."
   ]
  },
  {
   "cell_type": "markdown",
   "id": "39a1710d",
   "metadata": {},
   "source": [
    "Il existe plusieurs environnements de développement (IDE) pour travailler avec Python. Voici quelques-uns des plus populaires :\n",
    "\n",
    "- PyCharm : Développé par JetBrains, PyCharm est l'un des IDE les plus complets pour Python. Il propose des fonctionnalités avancées telles que la complétion de code intelligente, le débogage, l'analyse de code, et la prise en charge de frameworks comme Django et Flask.\n",
    "\n",
    "- Visual Studio Code (VS Code) : VS Code est un éditeur de code léger et très personnalisable. Il dispose d'une extension Python très populaire qui offre une variété de fonctionnalités telles que la complétion de code, le débogage, l'intégration de l'environnement virtuel, et bien plus encore.\n",
    "\n",
    "- Jupyter Notebook : Si vous travaillez sur des projets impliquant de l'analyse de données, de l'apprentissage automatique ou de la visualisation, Jupyter Notebook est un excellent choix. Il vous permet de créer et d'exécuter des \"cellules\" de code interprétables individuellement, ce qui facilite l'expérimentation interactive.\n",
    "\n",
    "- Spyder : Conçu spécifiquement pour les scientifiques des données, Spyder est un IDE qui propose un environnement de développement similaire à MATLAB. Il offre des outils d'analyse de données intégrés et est bien adapté aux tâches liées à la manipulation de données.\n",
    "\n",
    "Nous choisissons de travailler avec Jupyter Notebook pour son aspect pédagogique qui permet d'insérer des commentaires texte au fur et à mesure."
   ]
  },
  {
   "cell_type": "markdown",
   "id": "32d0f901",
   "metadata": {},
   "source": [
    "# Installation de Jupyter"
   ]
  },
  {
   "cell_type": "markdown",
   "id": "12416228",
   "metadata": {},
   "source": [
    "Jupyter Notebook est un environnement de développement interactif qui permet de créer et d'exécuter des documents contenant à la fois du code, des textes explicatifs, des images et des visualisations. Il est largement utilisé dans le domaine de la science des données, de la recherche en informatique et de l'éducation en programmation. Jupyter Notebook prend en charge plusieurs langages de programmation, mais dans ce TP, nous nous concentrerons sur l'utilisation de Python."
   ]
  },
  {
   "cell_type": "markdown",
   "id": "83379301",
   "metadata": {},
   "source": [
    "Le moyen le plus simple pour installer Jupyter est d'installer Anaconda. Anaconda est une des distributions Python les plus utilisées actuellement. Certaines grandes bibliothèques Python sont incluses dans Anaconda comme numpy et matplotlib.\n",
    "\n",
    "Pour obtenir Anaconda, il suffit de :\n",
    "\n",
    "    Téléchargez la dernière version d'Anaconda (lien vers la page de téléchargement).\n",
    "    Installez Anaconda en suivant les instructions sur la page de téléchargement et/ou dans l'exécutable.\n",
    "\n",
    "Si vous êtes un utilisateur plus avancé avec Python déjà installé et préférez gérer vos packages manuellement, vous pouvez simplement utiliser pip (attention à ce que toutes les dépendances soient aussi bien installées):"
   ]
  },
  {
   "cell_type": "markdown",
   "id": "67d2153e",
   "metadata": {},
   "source": [
    "```console\n",
    "pip3 install notebook\n",
    "```"
   ]
  },
  {
   "cell_type": "markdown",
   "id": "c7858d28",
   "metadata": {},
   "source": [
    "Vous pouvez lancer Jupyter grâce au raccourci ajouté par l'installation de Anaconda (sur Windows) dans le menu de démarrage des applications (Anaconda > Jupyter). Cela ouvrira votre navigateur Internet par défaut sur un tableau de bord dédié à la gestion de vos notebooks. Naviger dans l'arborescence de vos fichiers afin de vous placer dans le répertoire dans lequel vous souhaitez créer votre notebook.\n",
    "\n",
    "Les notebooks et le tableau de bord de Jupyter sont des applications Web, et Jupyter démarre un serveur Python local pour exécuter ces applications dans votre navigateur, le rendant indépendant de la plateforme et permetant un partage plus facile sur le Web. Votre notebook est donc pour l'instant hébergé et exécuté sur votre ordinateur local.\n",
    "\n",
    "Cliquer maintenant sur New (en haut à droite) et sélectionner Notebook : Python 3. Ceci va créer un notebook à l'emplacement choisi. Par défaut le notebook s'appelle Untitled.ipynb mais vous pouvez le changer en modifiant le nom du notebook en haut à gauche à côté du logo.\n",
    "\n",
    "Chaque fichier .ipynb est un fichier texte qui décrit le contenu de votre notebook au format JSON. Chaque cellule et son contenu, y compris les images jointes sont converties en chaînes de charactères (attention donc à la taille du fichier qui peut grandir rapidement si beaucoup d'images sont insérées), et y sont aussi répertoriés certaines métadonnées."
   ]
  },
  {
   "cell_type": "markdown",
   "id": "abddf346",
   "metadata": {},
   "source": [
    "Les menus sont assez intuitifs, et restent proches d'un éditeur de texte classique. Familiarisez vous avec ces menus.\n",
    "\n",
    "Par défaut une cellule de code est ajoutée dans le notebook. Vous pouvez utiliser cette cellule pour exécuter du code Python, comme vous le feriez dans une console de l'interpréteur. Vous pouvez par exemple taper 2+2 puis Ctrl + Entrée pour exécuter le code (taper juste Entrée va simplement à la ligne dans le code). Essayez ainsi d'exécuter quelques bouts de code pour vérifier le bon fonctionnement (des print, des fonctions etc.)."
   ]
  },
  {
   "cell_type": "code",
   "execution_count": null,
   "id": "db131f05",
   "metadata": {},
   "outputs": [],
   "source": [
    "2+2"
   ]
  },
  {
   "cell_type": "code",
   "execution_count": null,
   "id": "af65f439",
   "metadata": {},
   "outputs": [],
   "source": [
    "print(\"Hello world\")"
   ]
  },
  {
   "cell_type": "markdown",
   "id": "c48555a6",
   "metadata": {},
   "source": [
    "Vous remarquerez que les sorties se font dans des cellules à part, des cellules de sortie.\n",
    "\n",
    "Le plus gros intérêt d'un notebook est (en plus d'être une page en ligne partageable) de pouvoir écrire du texte entre les bouts de code. Cela permet donc assez facilement de par exemple donner un énoncé de TD ou TP où le code serait exécuter \"dans l'énoncé\", et non pas dans un IDE à part.\n",
    "\n",
    "Pour basculer rapidement une cellule du mode code au mode texte, sélectionner la cellule et taper simplement M. Pour faire la consersion inverse taper Y.\n",
    "\n",
    "Vous pouvez exécuter toutes les cellules de code (du haut du notebook au bas) en allant dans Cell > Run All.\n",
    "\n",
    "Dans un notebook Jupyter, le code est organisé en cellules. Vous pouvez exécuter chaque cellule individuellement. Pour exécuter une cellule de code, vous pouvez utiliser l'un des raccourcis suivants :\n",
    "\n",
    "- Shift + Enter : Exécute la cellule et passe à la suivante.\n",
    "- Ctrl + Enter : Exécute la cellule sans passer à la suivante.\n",
    "- Alt + Enter : Exécute la cellule et insère une nouvelle cellule en dessous.\n",
    "\n",
    "Les cellules de texte, appelées cellules Markdown, permettent de fournir des explications et des commentaires. Vous pouvez les utiliser pour donner du contexte à votre code, en utilisant la syntaxe Markdown pour la mise en forme du texte."
   ]
  },
  {
   "cell_type": "markdown",
   "id": "907feb13",
   "metadata": {},
   "source": [
    "# Fondamentaux de Python"
   ]
  },
  {
   "cell_type": "markdown",
   "id": "c6890331",
   "metadata": {},
   "source": [
    "Python est un langage fortement typé, ce qui signifie que les variables ont des types de données spécifiques. Voici quelques types de données de base :\n",
    "\n",
    "- Entiers (int) : des nombres entiers tels que 5, -10, 0.\n",
    "- Flottants (float) : des nombres à virgule flottante tels que 3.14, -0.5.\n",
    "- Chaînes de caractères (str) : des séquences de caractères comme \"Bonjour\", \"Python est génial !\".\n",
    "- Listes : des collections ordonnées de valeurs, par exemple [1, 2, 3].\n",
    "- Tuples : des collections similaires aux listes, mais immuables, par exemple (1, 2, 3).\n",
    "- Dictionnaires : des collections de paires clé-valeur, par exemple {\"nom\": \"Alice\", \"âge\": 25}."
   ]
  },
  {
   "cell_type": "markdown",
   "id": "4bcf0ffc",
   "metadata": {},
   "source": [
    "Python prend en charge divers opérateurs pour effectuer des opérations sur les données, tels que les opérateurs mathématiques (+, -, *, /), les opérateurs de comparaison (==, <, >, <=, >=), et les opérateurs logiques (and, or, not)."
   ]
  },
  {
   "cell_type": "code",
   "execution_count": null,
   "id": "a2108cb6",
   "metadata": {},
   "outputs": [],
   "source": [
    "a = 10\n",
    "b = 3\n",
    "addition = a + b\n",
    "multiplication = a * b\n",
    "comparaison = a > b\n",
    "logique = (a > 5) and (b < 7)\n",
    "\n",
    "print(addition)\n",
    "print(multiplication)\n",
    "print(comparaison)\n",
    "print(logique)"
   ]
  },
  {
   "cell_type": "markdown",
   "id": "e2f2006e",
   "metadata": {},
   "source": [
    "Les instructions conditionnelles (if, elif, else) permettent d'exécuter certaines parties de code en fonction de conditions."
   ]
  },
  {
   "cell_type": "code",
   "execution_count": null,
   "id": "416b13eb",
   "metadata": {},
   "outputs": [],
   "source": [
    "age = 18\n",
    "if age < 18:\n",
    "    print(\"Vous etes mineur\")\n",
    "elif age == 18:\n",
    "    print(\"Vous etes tout juste majeur\")\n",
    "else:\n",
    "    print(\"vous etes majeur\")"
   ]
  },
  {
   "cell_type": "markdown",
   "id": "2e974bd1",
   "metadata": {},
   "source": [
    "Les boucles (for et while) permettent de répéter des actions plusieurs fois."
   ]
  },
  {
   "cell_type": "code",
   "execution_count": null,
   "id": "c1897bfc",
   "metadata": {},
   "outputs": [],
   "source": [
    "nombres = [1, 2, 3, 4, 5]\n",
    "for nombre in nombres:\n",
    "    carre = nombre**2\n",
    "    print(f\"Le carré de {nombre} est {carre}\")"
   ]
  },
  {
   "cell_type": "markdown",
   "id": "b7e99797",
   "metadata": {},
   "source": [
    "Les fonctions permettent de regrouper des morceaux de code réutilisables. Une fonction peut prendre des paramètres en entrée et renvoyer une valeur en sortie."
   ]
  },
  {
   "cell_type": "code",
   "execution_count": null,
   "id": "63966076",
   "metadata": {},
   "outputs": [],
   "source": [
    "def carre(x):\n",
    "    return x**2\n",
    "\n",
    "resultat = carre(4)\n",
    "print(resultat)"
   ]
  },
  {
   "cell_type": "markdown",
   "id": "4fc61e15",
   "metadata": {},
   "source": [
    "# Exploitation des données et visualisation"
   ]
  },
  {
   "cell_type": "markdown",
   "id": "79955e99",
   "metadata": {},
   "source": [
    "Python offre de nombreuses bibliothèques pour l'analyse de données et la visualisation. Dans ce TP, nous nous concentrerons sur deux d'entre elles : NumPy et pandas pour l'analyse de données, et Matplotlib pour la visualisation."
   ]
  },
  {
   "cell_type": "markdown",
   "id": "8758d948",
   "metadata": {},
   "source": [
    "NumPy est une bibliothèque essentielle pour les scientifiques et les ingénieurs travaillant avec Python. Ses capacités de manipulation de tableaux multidimensionnels, ses fonctions mathématiques optimisées et son intégration étroite avec d'autres bibliothèques en font un outil puissant pour le calcul scientifique et l'analyse de données."
   ]
  },
  {
   "cell_type": "code",
   "execution_count": null,
   "id": "0990d147",
   "metadata": {},
   "outputs": [],
   "source": [
    "import numpy as np"
   ]
  },
  {
   "cell_type": "code",
   "execution_count": null,
   "id": "8a587673",
   "metadata": {},
   "outputs": [],
   "source": [
    "# Création d'un tableau unidimensionnel\n",
    "a = np.array([1, 2, 3, 4, 5])\n",
    "a"
   ]
  },
  {
   "cell_type": "code",
   "execution_count": null,
   "id": "72bd81e7",
   "metadata": {},
   "outputs": [],
   "source": [
    "# Création d'un tableau bidimensionnel (matrice)\n",
    "b = np.array([[1, 2, 3], [4, 5, 6], [7, 8, 9]])\n",
    "b"
   ]
  },
  {
   "cell_type": "code",
   "execution_count": null,
   "id": "2d20dd32",
   "metadata": {},
   "outputs": [],
   "source": [
    "# Calcul de la matrice transposée\n",
    "c = np.transpose(b)\n",
    "c"
   ]
  },
  {
   "cell_type": "code",
   "execution_count": null,
   "id": "a615d74e",
   "metadata": {},
   "outputs": [],
   "source": [
    "# Création d'un tableau de zéros\n",
    "zeros = np.zeros((3, 3))\n",
    "zeros"
   ]
  },
  {
   "cell_type": "code",
   "execution_count": null,
   "id": "f48fb9a9",
   "metadata": {},
   "outputs": [],
   "source": [
    "# Addition de tableaux\n",
    "resultat_addition = b + c\n",
    "resultat_addition"
   ]
  },
  {
   "cell_type": "code",
   "execution_count": null,
   "id": "3d4fce5c",
   "metadata": {},
   "outputs": [],
   "source": [
    "# Multiplication de tableaux par un scalaire\n",
    "resultat_multiplication = b * 2\n",
    "resultat_multiplication"
   ]
  },
  {
   "cell_type": "code",
   "execution_count": null,
   "id": "9073dcbd",
   "metadata": {},
   "outputs": [],
   "source": [
    "# Calcul de l'exponentielle des éléments\n",
    "exponentiel = np.exp(a)\n",
    "exponentiel"
   ]
  },
  {
   "cell_type": "code",
   "execution_count": null,
   "id": "72f38b47",
   "metadata": {},
   "outputs": [],
   "source": [
    "# Multiplication de deux matrices point à point (équivalent de .* en Matlab)\n",
    "resultat_multiplication = c * b\n",
    "resultat_multiplication"
   ]
  },
  {
   "cell_type": "code",
   "execution_count": null,
   "id": "2cc587fd",
   "metadata": {},
   "outputs": [],
   "source": [
    "resultat_multiplication2 = b * c\n",
    "resultat_multiplication2"
   ]
  },
  {
   "cell_type": "code",
   "execution_count": null,
   "id": "a1232625",
   "metadata": {},
   "outputs": [],
   "source": [
    "# Multiplication matricielle (l'élément(i,j) de la matrice est égal à la somme du produit de la ligne i de la 1ère matrice et de la colonne j de la 2ème matrice)\n",
    "resultat_dot = np.dot(c, b)\n",
    "resultat_dot"
   ]
  },
  {
   "cell_type": "code",
   "execution_count": null,
   "id": "8d7c9cf7",
   "metadata": {},
   "outputs": [],
   "source": [
    "resultat_dot2 = np.dot(b, c)\n",
    "resultat_dot2"
   ]
  },
  {
   "cell_type": "markdown",
   "id": "a6ceaa36",
   "metadata": {},
   "source": [
    "La multiplication point à point est commutative (a*b = b*a), contrairement à la multiplication matricielle avec np.dot où l'ordre des paramètres est important (a*b est différent de b*a)."
   ]
  },
  {
   "cell_type": "code",
   "execution_count": null,
   "id": "4c10ad29",
   "metadata": {},
   "outputs": [],
   "source": [
    "# Accès à un élément spécifique\n",
    "element = a[2]\n",
    "element"
   ]
  },
  {
   "cell_type": "markdown",
   "id": "a19ee3ba",
   "metadata": {},
   "source": [
    "Attention, on remarque bien que c'est le 3ème élément de a qui s'affiche. Il faut se rappeler que Python commence l'indexation à 0."
   ]
  },
  {
   "cell_type": "code",
   "execution_count": null,
   "id": "63b43528",
   "metadata": {},
   "outputs": [],
   "source": [
    "# Tranchage (slicing) pour obtenir une sous-section du tableau\n",
    "sous_tableau = b[1:, :2]\n",
    "sous_tableau"
   ]
  },
  {
   "cell_type": "code",
   "execution_count": null,
   "id": "099a385d",
   "metadata": {},
   "outputs": [],
   "source": [
    "# Calcul de la moyenne\n",
    "moyenne = np.mean(a)\n",
    "moyenne"
   ]
  },
  {
   "cell_type": "code",
   "execution_count": null,
   "id": "c1995157",
   "metadata": {},
   "outputs": [],
   "source": [
    "# Calcul de la somme cumulative\n",
    "somme_cumulative = np.cumsum(a)\n",
    "somme_cumulative"
   ]
  },
  {
   "cell_type": "markdown",
   "id": "a0a66196",
   "metadata": {},
   "source": [
    "Pandas offre de nombreuses fonctionnalités pour explorer et analyser des données. Vous pouvez obtenir des informations statistiques sur vos données, filtrer des lignes en fonction de certaines conditions, grouper et agréger des données, etc."
   ]
  },
  {
   "cell_type": "code",
   "execution_count": null,
   "id": "01a56df4",
   "metadata": {},
   "outputs": [],
   "source": [
    "import pandas as pd"
   ]
  },
  {
   "cell_type": "code",
   "execution_count": null,
   "id": "019f990c",
   "metadata": {},
   "outputs": [],
   "source": [
    "donnees = pd.read_csv('https://api.slingacademy.com/v1/sample-data/files/salaries.csv')"
   ]
  },
  {
   "cell_type": "code",
   "execution_count": null,
   "id": "a9f2c94b",
   "metadata": {},
   "outputs": [],
   "source": [
    "print(donnees.head())"
   ]
  },
  {
   "cell_type": "code",
   "execution_count": null,
   "id": "587c49c7",
   "metadata": {},
   "outputs": [],
   "source": [
    "# Obtenir des informations sur les colonnes\n",
    "informations = donnees.info()"
   ]
  },
  {
   "cell_type": "code",
   "execution_count": null,
   "id": "b2d88673",
   "metadata": {},
   "outputs": [],
   "source": [
    "# Statistiques descriptives\n",
    "stats = donnees.describe()\n",
    "print(stats)"
   ]
  },
  {
   "cell_type": "code",
   "execution_count": null,
   "id": "96e53c71",
   "metadata": {},
   "outputs": [],
   "source": [
    "# Filtrer les données en fonction d'une condition\n",
    "donnees_filtrees = donnees[donnees['Age'] > 25]\n",
    "print(donnees_filtrees)"
   ]
  },
  {
   "cell_type": "code",
   "execution_count": null,
   "id": "1c47607e",
   "metadata": {},
   "outputs": [],
   "source": [
    "# Grouper et agréger des données\n",
    "groupe_par_job = donnees.groupby('Job')['Salary'].mean()\n",
    "print(groupe_par_job)"
   ]
  },
  {
   "cell_type": "code",
   "execution_count": null,
   "id": "f82133bd",
   "metadata": {},
   "outputs": [],
   "source": [
    "# Calculer les statistiques descriptives\n",
    "mean_salary = donnees['Salary'].mean()\n",
    "median_salary = donnees['Salary'].median()\n",
    "std_deviation = donnees['Salary'].std()\n",
    "min_salary = donnees['Salary'].min()\n",
    "max_salary = donnees['Salary'].max()\n",
    "\n",
    "# Afficher les résultats\n",
    "print(f\"Moyenne salariale : {mean_salary}\")\n",
    "print(f\"Médiane salariale : {median_salary}\")\n",
    "print(f\"Écart-type des salaires : {std_deviation}\")\n",
    "print(f\"Salaire minimum : {min_salary}\")\n",
    "print(f\"Salaire maximum : {max_salary}\")\n",
    "\n",
    "# Calculer les quartiles\n",
    "first_quartile = donnees['Salary'].quantile(0.25)\n",
    "second_quartile = donnees['Salary'].quantile(0.50)\n",
    "third_quartile = donnees['Salary'].quantile(0.75)\n",
    "\n",
    "print(f\"Premier quartile (Q1) : {first_quartile}\")\n",
    "print(f\"Deuxième quartile (Q2) : {second_quartile}\")\n",
    "print(f\"Troisième quartile (Q3) : {third_quartile}\")"
   ]
  },
  {
   "cell_type": "markdown",
   "id": "4de1b6ea",
   "metadata": {},
   "source": [
    "Matplotlib permet de créer une variété de visualisations, comme des graphiques linéaires, des diagrammes à barres, des diagrammes circulaires, etc."
   ]
  },
  {
   "cell_type": "code",
   "execution_count": null,
   "id": "b844116a",
   "metadata": {},
   "outputs": [],
   "source": [
    "import matplotlib.pyplot as plt"
   ]
  },
  {
   "cell_type": "code",
   "execution_count": null,
   "id": "f823c531",
   "metadata": {},
   "outputs": [],
   "source": [
    "# Créer un histogramme pour visualiser la distribution des salaires\n",
    "plt.figure(figsize=(10, 6))\n",
    "plt.hist(donnees['Salary'], bins=20, color='blue', edgecolor='black')\n",
    "plt.title('Distribution des Salaires')\n",
    "plt.xlabel('Salaire')\n",
    "plt.ylabel('Nombre d\\'employés')\n",
    "plt.show()\n"
   ]
  },
  {
   "cell_type": "code",
   "execution_count": null,
   "id": "d729f5d3",
   "metadata": {},
   "outputs": [],
   "source": [
    "# Créer un diagramme de boîte pour visualiser la distribution et les outliers\n",
    "plt.figure(figsize=(10, 6))\n",
    "plt.boxplot(donnees['Salary'])\n",
    "plt.title('Diagramme de Boîte des Salaires')\n",
    "plt.ylabel('Salaire')\n",
    "plt.show()"
   ]
  },
  {
   "cell_type": "code",
   "execution_count": null,
   "id": "98800297",
   "metadata": {},
   "outputs": [],
   "source": [
    "# Créer un diagramme en barre pour la répartition des salaires par job\n",
    "plt.bar(donnees['Job'],donnees['Salary'], color='blue')\n",
    "plt.title('Répartition des Job')\n",
    "plt.xlabel('Job')\n",
    "plt.ylabel('Salaire Moyen')\n",
    "plt.xticks(rotation=45)\n",
    "plt.tight_layout()\n",
    "plt.show()"
   ]
  },
  {
   "cell_type": "code",
   "execution_count": null,
   "id": "20468c50",
   "metadata": {},
   "outputs": [],
   "source": [
    "# Compter le nombre d'occurrences de chaque job\n",
    "job_counts = donnees['Job'].value_counts()\n",
    "plt.figure(figsize=(8, 8))\n",
    "plt.pie(job_counts, labels=job_counts.index, autopct='%1.1f%%', startangle=140, colors=plt.cm.Paired.colors)\n",
    "plt.show()\n"
   ]
  },
  {
   "cell_type": "markdown",
   "id": "ef4c8270",
   "metadata": {},
   "source": [
    "SciPy est une bibliothèque essentielle pour le calcul scientifique en Python, offrant un large éventail d'outils pour l'analyse, le traitement et la manipulation de données."
   ]
  },
  {
   "cell_type": "code",
   "execution_count": null,
   "id": "1af08cd2",
   "metadata": {},
   "outputs": [],
   "source": [
    "# Génération de données pour le signal\n",
    "frequence = 5  # Fréquence en Hz\n",
    "echantillons_par_seconde = 1000\n",
    "temps = np.arange(0, 1, 1/echantillons_par_seconde)\n",
    "signal = np.sin(2 * np.pi * frequence * temps)\n",
    "\n",
    "plt.plot(temps, signal)\n",
    "plt.title('Signal sinusoïdal dans le domaine temporel')\n",
    "plt.xlabel('Temps (s)')\n",
    "plt.ylabel('Amplitude')"
   ]
  },
  {
   "cell_type": "code",
   "execution_count": null,
   "id": "e0ca6f25",
   "metadata": {},
   "outputs": [],
   "source": [
    "# Calcul de la FFT\n",
    "spectre = np.fft.fft(signal)"
   ]
  },
  {
   "cell_type": "code",
   "execution_count": null,
   "id": "e46fc77d",
   "metadata": {},
   "outputs": [],
   "source": [
    "# Calcul de la FFT\n",
    "spectre = np.fft.fft(signal)\n",
    "\n",
    "# Fréquences correspondantes\n",
    "frequences = np.fft.fftfreq(len(signal)) * echantillons_par_seconde\n",
    "\n",
    "# Tracé du signal et de son spectre\n",
    "plt.subplot(2, 1, 2)\n",
    "plt.plot(frequences, np.abs(spectre))\n",
    "plt.title('Spectre du signal')\n",
    "plt.xlabel('Fréquence (Hz)')\n",
    "plt.ylabel('Amplitude')"
   ]
  },
  {
   "cell_type": "markdown",
   "id": "67d532ed",
   "metadata": {},
   "source": [
    "# Exercice 1: Manipulation de matrices"
   ]
  },
  {
   "cell_type": "markdown",
   "id": "b5686008",
   "metadata": {},
   "source": [
    "Créer la matrice $A$ de dimension $4x4$ telle que $$A = \\begin{pmatrix}  1 & 4 & 5 & 7 \\\\ 7 & 8 & 9 & 10 \\\\ 2 & 26 & 14 & 56  \\\\ 78 & 11 & 43 & 12\\end{pmatrix}$$"
   ]
  },
  {
   "cell_type": "code",
   "execution_count": null,
   "id": "0e9908c0",
   "metadata": {},
   "outputs": [],
   "source": [
    "A = np.array([[1, 4, 5, 7], [7, 8 , 9, 10], [2, 26, 14, 56], [78, 11, 43, 12]])\n",
    "A"
   ]
  },
  {
   "cell_type": "markdown",
   "id": "0666f500",
   "metadata": {},
   "source": [
    "Que fait la commande A[2, 3]?"
   ]
  },
  {
   "cell_type": "code",
   "execution_count": null,
   "id": "f72dedfc",
   "metadata": {},
   "outputs": [],
   "source": [
    "A[2, 3]"
   ]
  },
  {
   "cell_type": "markdown",
   "id": "c992adcb",
   "metadata": {},
   "source": [
    "Afficher la 1ère ligne de $A$"
   ]
  },
  {
   "cell_type": "code",
   "execution_count": null,
   "id": "fb7cfe22",
   "metadata": {},
   "outputs": [],
   "source": [
    "A[0, :]"
   ]
  },
  {
   "cell_type": "markdown",
   "id": "6103552c",
   "metadata": {},
   "source": [
    "Afficher la dernière colonne de $A$"
   ]
  },
  {
   "cell_type": "code",
   "execution_count": null,
   "id": "5adb1684",
   "metadata": {},
   "outputs": [],
   "source": [
    "A[:, 3]"
   ]
  },
  {
   "cell_type": "markdown",
   "id": "8bd925b1",
   "metadata": {},
   "source": [
    "Afficher la matrice transposée de $A$"
   ]
  },
  {
   "cell_type": "code",
   "execution_count": null,
   "id": "fb60cde7",
   "metadata": {},
   "outputs": [],
   "source": [
    "np.transpose(A)"
   ]
  },
  {
   "cell_type": "markdown",
   "id": "c48a4ce3",
   "metadata": {},
   "source": [
    "Que fait la commande [L, C] = np.where(A>75)?"
   ]
  },
  {
   "cell_type": "code",
   "execution_count": null,
   "id": "de5258e3",
   "metadata": {},
   "outputs": [],
   "source": [
    "[L, C] = np.where(A>75)"
   ]
  },
  {
   "cell_type": "code",
   "execution_count": null,
   "id": "d8d90107",
   "metadata": {},
   "outputs": [],
   "source": [
    "np.where(A>75)"
   ]
  },
  {
   "cell_type": "code",
   "execution_count": null,
   "id": "2097ae4d",
   "metadata": {},
   "outputs": [],
   "source": [
    "L"
   ]
  },
  {
   "cell_type": "code",
   "execution_count": null,
   "id": "27eb6395",
   "metadata": {},
   "outputs": [],
   "source": [
    "C"
   ]
  },
  {
   "cell_type": "markdown",
   "id": "066a1f42",
   "metadata": {},
   "source": [
    "Afficher la valeur qui est supérieure à 75 en utilisant $A$, $L$ et $C$"
   ]
  },
  {
   "cell_type": "code",
   "execution_count": null,
   "id": "c052bba3",
   "metadata": {},
   "outputs": [],
   "source": [
    "A[L[0], C[0]]"
   ]
  },
  {
   "cell_type": "code",
   "execution_count": null,
   "id": "6da0c665",
   "metadata": {},
   "outputs": [],
   "source": [
    "#Trouver la position des éléments de $A$ supérieurs à 50"
   ]
  },
  {
   "cell_type": "code",
   "execution_count": null,
   "id": "92006c29",
   "metadata": {},
   "outputs": [],
   "source": [
    "[L, C] = np.where(A>50)"
   ]
  },
  {
   "cell_type": "code",
   "execution_count": null,
   "id": "899c0eeb",
   "metadata": {},
   "outputs": [],
   "source": [
    "L"
   ]
  },
  {
   "cell_type": "code",
   "execution_count": null,
   "id": "74f430d6",
   "metadata": {},
   "outputs": [],
   "source": [
    "C"
   ]
  },
  {
   "cell_type": "markdown",
   "id": "927f3b9c",
   "metadata": {},
   "source": [
    "Il y a 2 éléments supérieurs à 50 en position: 3ème ligne, 4ème colonne (3,4) et 4ème ligne, 1ère colonne (4,1)"
   ]
  },
  {
   "cell_type": "markdown",
   "id": "4abe30d3",
   "metadata": {},
   "source": [
    "# Exercice 2: Résolution d'un système d'équations"
   ]
  },
  {
   "cell_type": "markdown",
   "id": "39090708",
   "metadata": {},
   "source": [
    "On se propose de trouver les solutions $x$, $y$ et $z$ d'un système d'équations en utilisant l'outil matriciel. Soit le système  suivant à 3 équations: $$ \\begin{cases}  x + y +2z &=& 3 \\\\  x + 2y + z &=& 1 \\\\ 2x + y + z &=& 0 \\end{cases} $$"
   ]
  },
  {
   "cell_type": "markdown",
   "id": "510e404d",
   "metadata": {},
   "source": [
    "Traduire le  système d'équations sous une forme matricielle $AX = Y$ avec $A$ matrice $3x3$ à déterminer et $$X = \\begin{pmatrix} x \\\\ y \\\\ z \\end{pmatrix}\\ et \\ Y = \\begin{pmatrix} 3 \\\\ 1 \\\\ 0 \\end{pmatrix}\\ $$"
   ]
  },
  {
   "cell_type": "markdown",
   "id": "5d079eb3",
   "metadata": {},
   "source": [
    "Trouver les valeurs de $x$, $y$ et $z$ par inversion de la formule précédente: $X = A^{-1}Y$"
   ]
  },
  {
   "cell_type": "code",
   "execution_count": null,
   "id": "67d65cd3",
   "metadata": {},
   "outputs": [],
   "source": [
    "A = np.array([[1, 1, 2], [1, 2, 1], [2, 1, 1]])\n",
    "A"
   ]
  },
  {
   "cell_type": "code",
   "execution_count": null,
   "id": "3e18024b",
   "metadata": {},
   "outputs": [],
   "source": [
    "Y = np.array([[3], [1], [0]])\n",
    "Y"
   ]
  },
  {
   "cell_type": "code",
   "execution_count": null,
   "id": "5919d2e1",
   "metadata": {},
   "outputs": [],
   "source": [
    "X = np.dot(np.linalg.inv(A), Y)\n",
    "X"
   ]
  },
  {
   "cell_type": "code",
   "execution_count": null,
   "id": "cfbf3c91",
   "metadata": {},
   "outputs": [],
   "source": []
  },
  {
   "cell_type": "code",
   "execution_count": null,
   "id": "bbbb73e0",
   "metadata": {},
   "outputs": [],
   "source": []
  }
 ],
 "metadata": {
  "kernelspec": {
   "display_name": "Python 3 (ipykernel)",
   "language": "python",
   "name": "python3"
  },
  "language_info": {
   "codemirror_mode": {
    "name": "ipython",
    "version": 3
   },
   "file_extension": ".py",
   "mimetype": "text/x-python",
   "name": "python",
   "nbconvert_exporter": "python",
   "pygments_lexer": "ipython3",
   "version": "3.11.4"
  }
 },
 "nbformat": 4,
 "nbformat_minor": 5
}
